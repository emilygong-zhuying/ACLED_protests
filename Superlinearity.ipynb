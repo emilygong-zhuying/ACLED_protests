{
 "cells": [
  {
   "cell_type": "code",
   "execution_count": 292,
   "id": "84cd56c5",
   "metadata": {},
   "outputs": [],
   "source": [
    "import pandas as pd\n",
    "import seaborn as sns\n",
    "import matplotlib.pyplot as plt\n",
    "from scipy import stats\n",
    "from unidecode import unidecode"
   ]
  },
  {
   "cell_type": "markdown",
   "id": "c20bc919",
   "metadata": {},
   "source": [
    "# Loading in the data"
   ]
  },
  {
   "cell_type": "code",
   "execution_count": 293,
   "id": "1576ab65",
   "metadata": {},
   "outputs": [],
   "source": [
    "numerical_size_reported = pd.read_csv(\"numerical_size_reported.csv\")\n",
    "pop = pd.read_csv(\"UNdata_population.csv\", low_memory=False)"
   ]
  },
  {
   "cell_type": "code",
   "execution_count": 294,
   "id": "d079acc2",
   "metadata": {},
   "outputs": [],
   "source": [
    "pop = pop[pop['Sex'] == 'Both Sexes']\n",
    "pop = pop[['Country or Area', 'Year', 'City', 'Value']]\n",
    "pop['City'] = pop['City'].str.lower()\n",
    "pop['City'] = pop['City'].apply(unidecode)\n",
    "pop['Year'] = pop['Year'].astype(int)"
   ]
  },
  {
   "cell_type": "markdown",
   "id": "f1b9e521",
   "metadata": {},
   "source": [
    "# Check out Mexico"
   ]
  },
  {
   "cell_type": "code",
   "execution_count": 295,
   "id": "f5744065",
   "metadata": {},
   "outputs": [],
   "source": [
    "MEX_pop = pop[pop['Country or Area'] == \"Mexico\"].reset_index(drop=True)\n",
    "MEX_pop = MEX_pop[['Year', 'City', 'Value']]\n",
    "MEX_pop = MEX_pop.rename(columns={\"Year\": \"Year\", \"City\": \"City\", \"Value\": \"Population\"})"
   ]
  },
  {
   "cell_type": "code",
   "execution_count": 296,
   "id": "663433eb",
   "metadata": {},
   "outputs": [
    {
     "data": {
      "text/html": [
       "<div>\n",
       "<style scoped>\n",
       "    .dataframe tbody tr th:only-of-type {\n",
       "        vertical-align: middle;\n",
       "    }\n",
       "\n",
       "    .dataframe tbody tr th {\n",
       "        vertical-align: top;\n",
       "    }\n",
       "\n",
       "    .dataframe thead th {\n",
       "        text-align: right;\n",
       "    }\n",
       "</style>\n",
       "<table border=\"1\" class=\"dataframe\">\n",
       "  <thead>\n",
       "    <tr style=\"text-align: right;\">\n",
       "      <th></th>\n",
       "      <th>Year</th>\n",
       "      <th>Population</th>\n",
       "    </tr>\n",
       "  </thead>\n",
       "  <tbody>\n",
       "    <tr>\n",
       "      <th>count</th>\n",
       "      <td>1176.000000</td>\n",
       "      <td>1.176000e+03</td>\n",
       "    </tr>\n",
       "    <tr>\n",
       "      <th>mean</th>\n",
       "      <td>2014.726190</td>\n",
       "      <td>8.194958e+05</td>\n",
       "    </tr>\n",
       "    <tr>\n",
       "      <th>std</th>\n",
       "      <td>5.306586</td>\n",
       "      <td>2.150622e+06</td>\n",
       "    </tr>\n",
       "    <tr>\n",
       "      <th>min</th>\n",
       "      <td>2005.000000</td>\n",
       "      <td>1.000000e+00</td>\n",
       "    </tr>\n",
       "    <tr>\n",
       "      <th>25%</th>\n",
       "      <td>2010.000000</td>\n",
       "      <td>1.737609e+05</td>\n",
       "    </tr>\n",
       "    <tr>\n",
       "      <th>50%</th>\n",
       "      <td>2016.000000</td>\n",
       "      <td>3.464371e+05</td>\n",
       "    </tr>\n",
       "    <tr>\n",
       "      <th>75%</th>\n",
       "      <td>2020.000000</td>\n",
       "      <td>7.757152e+05</td>\n",
       "    </tr>\n",
       "    <tr>\n",
       "      <th>max</th>\n",
       "      <td>2022.000000</td>\n",
       "      <td>2.216752e+07</td>\n",
       "    </tr>\n",
       "  </tbody>\n",
       "</table>\n",
       "</div>"
      ],
      "text/plain": [
       "              Year    Population\n",
       "count  1176.000000  1.176000e+03\n",
       "mean   2014.726190  8.194958e+05\n",
       "std       5.306586  2.150622e+06\n",
       "min    2005.000000  1.000000e+00\n",
       "25%    2010.000000  1.737609e+05\n",
       "50%    2016.000000  3.464371e+05\n",
       "75%    2020.000000  7.757152e+05\n",
       "max    2022.000000  2.216752e+07"
      ]
     },
     "execution_count": 296,
     "metadata": {},
     "output_type": "execute_result"
    }
   ],
   "source": [
    "MEX_pop.describe()"
   ]
  },
  {
   "cell_type": "code",
   "execution_count": 297,
   "id": "a0395826",
   "metadata": {
    "scrolled": true
   },
   "outputs": [],
   "source": [
    "MEX = numerical_size_reported[numerical_size_reported['iso3'] == 'MEX']\n",
    "MEX = MEX[['year', 'location', 'numerical_size']].reset_index(drop=True)\n",
    "MEX['location'] = MEX['location'].str.lower()\n",
    "MEX = MEX.rename(columns={\"year\": \"Year\", \"location\": \"City\", \"numerical_size\": \"Protest_size\"})"
   ]
  },
  {
   "cell_type": "markdown",
   "id": "a4476915",
   "metadata": {},
   "source": [
    "## A LOT of NA's but let's continue for now"
   ]
  },
  {
   "cell_type": "code",
   "execution_count": 298,
   "id": "b3257fb2",
   "metadata": {},
   "outputs": [
    {
     "data": {
      "text/plain": [
       "0.22586206896551725"
      ]
     },
     "execution_count": 298,
     "metadata": {},
     "output_type": "execute_result"
    }
   ],
   "source": [
    "MEX_merged = pd.merge(MEX, MEX_pop, on=['City','Year'], how='left')\n",
    "MEX_merged_valid = MEX_merged[~MEX_merged['Population'].isnull()].copy()\n",
    "\n",
    "MEX_merged_valid['Population'] = MEX_merged_valid['Population'].apply(lambda x: '{:.2f}'.format(x))\n",
    "MEX_merged_valid['Population'] = MEX_merged_valid['Population'].astype(float)\n",
    "len(MEX_merged_valid)/len(MEX)"
   ]
  },
  {
   "cell_type": "markdown",
   "id": "b88792b2",
   "metadata": {},
   "source": [
    "## Graphing"
   ]
  },
  {
   "cell_type": "code",
   "execution_count": 259,
   "id": "c9f5fa12",
   "metadata": {},
   "outputs": [
    {
     "data": {
      "image/png": "[encoded data removed]",
      "text/plain": [
       "<Figure size 432x288 with 1 Axes>"
      ]
     },
     "metadata": {},
     "output_type": "display_data"
    }
   ],
   "source": [
    "sns.set_theme(style=\"white\")\n",
    "\n",
    "slope, intercept, r_value, p_value, std_err = stats.linregress(MEX_merged_valid['Population'],MEX_merged_valid['Protest_size'])\n",
    "ax = sns.regplot(x=\"Population\", y=\"Protest_size\", data=MEX_merged_valid, color='b', line_kws={'label':\"y={0:.1f}x+{1:.1f}\".format(slope,intercept)})\n",
    "\n",
    "# plot legend\n",
    "ax.legend()\n",
    "\n",
    "plt.show()"
   ]
  },
  {
   "cell_type": "markdown",
   "id": "724cb162",
   "metadata": {},
   "source": [
    "# Brazil"
   ]
  },
  {
   "cell_type": "code",
   "execution_count": 251,
   "id": "fc0bbd67",
   "metadata": {
    "scrolled": true
   },
   "outputs": [],
   "source": [
    "BRA_pop = pop[pop['Country or Area'] == \"Brazil\"].reset_index(drop=True)\n",
    "BRA_pop = BRA_pop[['Year', 'City', 'Value']]"
   ]
  },
  {
   "cell_type": "code",
   "execution_count": 252,
   "id": "6e0f67ff",
   "metadata": {},
   "outputs": [],
   "source": [
    "BRA = numerical_size_reported[numerical_size_reported['iso3'] == 'BRA']\n",
    "BRA = BRA[['year', 'location', 'numerical_size']].reset_index(drop=True)\n",
    "BRA['location'] = BRA['location'].str.lower()\n",
    "BRA = BRA.rename(columns={\"year\": \"Year\", \"location\": \"City\", \"numerical_size\": \"Protest_size\"})"
   ]
  },
  {
   "cell_type": "code",
   "execution_count": 254,
   "id": "0b395f76",
   "metadata": {},
   "outputs": [
    {
     "data": {
      "text/html": [
       "<div>\n",
       "<style scoped>\n",
       "    .dataframe tbody tr th:only-of-type {\n",
       "        vertical-align: middle;\n",
       "    }\n",
       "\n",
       "    .dataframe tbody tr th {\n",
       "        vertical-align: top;\n",
       "    }\n",
       "\n",
       "    .dataframe thead th {\n",
       "        text-align: right;\n",
       "    }\n",
       "</style>\n",
       "<table border=\"1\" class=\"dataframe\">\n",
       "  <thead>\n",
       "    <tr style=\"text-align: right;\">\n",
       "      <th></th>\n",
       "      <th>Year</th>\n",
       "      <th>City</th>\n",
       "      <th>Protest_size</th>\n",
       "      <th>Value</th>\n",
       "    </tr>\n",
       "  </thead>\n",
       "  <tbody>\n",
       "  </tbody>\n",
       "</table>\n",
       "</div>"
      ],
      "text/plain": [
       "Empty DataFrame\n",
       "Columns: [Year, City, Protest_size, Value]\n",
       "Index: []"
      ]
     },
     "execution_count": 254,
     "metadata": {},
     "output_type": "execute_result"
    }
   ],
   "source": [
    "BRA_merged = pd.merge(BRA, BRA_pop, on=['City','Year'], how='left')\n",
    "BRA_merged_valid = BRA_merged[~BRA_merged['Value'].isnull()].copy()\n",
    "\n",
    "# BRA_merged_valid['Value'] = BRA_merged_valid['Value'].apply(lambda x: '{:.2f}'.format(x))\n",
    "# BRA_merged_valid['Value'] = BRA_merged_valid['Value'].astype(float)\n",
    "BRA_merged_valid"
   ]
  },
  {
   "cell_type": "code",
   "execution_count": 226,
   "id": "eb925879",
   "metadata": {},
   "outputs": [
    {
     "name": "stderr",
     "output_type": "stream",
     "text": [
      "No handles with labels found to put in legend.\n"
     ]
    },
    {
     "data": {
      "image/png": "[encoded data removed]",
      "text/plain": [
       "<Figure size 432x288 with 1 Axes>"
      ]
     },
     "metadata": {},
     "output_type": "display_data"
    }
   ],
   "source": [
    "sns.set_theme(style=\"white\")\n",
    "\n",
    "slope, intercept, r_value, p_value, std_err = stats.linregress(MEX_merged_valid['Value'],MEX_merged_valid['Protest_size'])\n",
    "ax = sns.regplot(x=\"Value\", y=\"Protest_size\", data=BRA_merged_valid, color='b', line_kws={'label':\"y={0:.1f}x+{1:.1f}\".format(slope,intercept)})\n",
    "\n",
    "# plot legend\n",
    "ax.legend()\n",
    "\n",
    "plt.show()"
   ]
  },
  {
   "cell_type": "code",
   "execution_count": null,
   "id": "5408e12e",
   "metadata": {},
   "outputs": [],
   "source": []
  },
  {
   "cell_type": "code",
   "execution_count": null,
   "id": "405b65ea",
   "metadata": {},
   "outputs": [],
   "source": []
  }
 ],
 "metadata": {
  "kernelspec": {
   "display_name": "Python 3 (ipykernel)",
   "language": "python",
   "name": "python3"
  },
  "language_info": {
   "codemirror_mode": {
    "name": "ipython",
    "version": 3
   },
   "file_extension": ".py",
   "mimetype": "text/x-python",
   "name": "python",
   "nbconvert_exporter": "python",
   "pygments_lexer": "ipython3",
   "version": "3.9.7"
  }
 },
 "nbformat": 4,
 "nbformat_minor": 5
}
