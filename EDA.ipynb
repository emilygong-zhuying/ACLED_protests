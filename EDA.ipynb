{
 "cells": [
  {
   "cell_type": "code",
   "execution_count": 67,
   "id": "bb9fb5f2",
   "metadata": {},
   "outputs": [],
   "source": [
    "import pandas as pd\n",
    "import numpy as np"
   ]
  },
  {
   "cell_type": "code",
   "execution_count": 68,
   "id": "d3b1c90e",
   "metadata": {},
   "outputs": [],
   "source": [
    "protests = pd.read_csv('protests_clean.csv')"
   ]
  },
  {
   "cell_type": "code",
   "execution_count": 69,
   "id": "8a6de872",
   "metadata": {},
   "outputs": [],
   "source": [
    "selected_cols = protests[[\"iso3\", \"event_id_no_cnty\", \"year\", \"region\", \"country\"]]"
   ]
  },
  {
   "cell_type": "code",
   "execution_count": 70,
   "id": "219ccc45",
   "metadata": {},
   "outputs": [],
   "source": [
    "unique_countries = selected_cols.drop_duplicates(subset = [\"country\"])"
   ]
  },
  {
   "cell_type": "code",
   "execution_count": 71,
   "id": "777b39d5",
   "metadata": {},
   "outputs": [],
   "source": [
    "# Aggregate every country every year - the number of protests\n",
    "match = selected_cols.groupby(['country', 'year']).count().reset_index()\n",
    "match = match[['country', 'year', 'iso3']]\n",
    "match.columns = ['country', 'year','count']"
   ]
  },
  {
   "cell_type": "code",
   "execution_count": 72,
   "id": "bf7826d0",
   "metadata": {
    "scrolled": true
   },
   "outputs": [],
   "source": [
    "map_df = match.merge(unique_countries, how='left', on='country')\n",
    "map_df = map_df[['country', 'year_x', 'count', 'iso3', 'region']]"
   ]
  },
  {
   "cell_type": "code",
   "execution_count": 73,
   "id": "9f34be59",
   "metadata": {},
   "outputs": [
    {
     "data": {
      "text/html": [
       "<div>\n",
       "<style scoped>\n",
       "    .dataframe tbody tr th:only-of-type {\n",
       "        vertical-align: middle;\n",
       "    }\n",
       "\n",
       "    .dataframe tbody tr th {\n",
       "        vertical-align: top;\n",
       "    }\n",
       "\n",
       "    .dataframe thead th {\n",
       "        text-align: right;\n",
       "    }\n",
       "</style>\n",
       "<table border=\"1\" class=\"dataframe\">\n",
       "  <thead>\n",
       "    <tr style=\"text-align: right;\">\n",
       "      <th></th>\n",
       "      <th>country</th>\n",
       "      <th>year_x</th>\n",
       "      <th>count</th>\n",
       "      <th>iso3</th>\n",
       "      <th>region</th>\n",
       "    </tr>\n",
       "  </thead>\n",
       "  <tbody>\n",
       "    <tr>\n",
       "      <th>0</th>\n",
       "      <td>Mali</td>\n",
       "      <td>1997</td>\n",
       "      <td>6</td>\n",
       "      <td>MLI</td>\n",
       "      <td>Western Africa</td>\n",
       "    </tr>\n",
       "    <tr>\n",
       "      <th>1</th>\n",
       "      <td>Morocco</td>\n",
       "      <td>1997</td>\n",
       "      <td>3</td>\n",
       "      <td>MAR</td>\n",
       "      <td>Northern Africa</td>\n",
       "    </tr>\n",
       "    <tr>\n",
       "      <th>2</th>\n",
       "      <td>Burkina Faso</td>\n",
       "      <td>1997</td>\n",
       "      <td>4</td>\n",
       "      <td>BFA</td>\n",
       "      <td>Western Africa</td>\n",
       "    </tr>\n",
       "    <tr>\n",
       "      <th>3</th>\n",
       "      <td>Ivory Coast</td>\n",
       "      <td>1997</td>\n",
       "      <td>7</td>\n",
       "      <td>CIV</td>\n",
       "      <td>Western Africa</td>\n",
       "    </tr>\n",
       "    <tr>\n",
       "      <th>4</th>\n",
       "      <td>Benin</td>\n",
       "      <td>1997</td>\n",
       "      <td>2</td>\n",
       "      <td>BEN</td>\n",
       "      <td>Western Africa</td>\n",
       "    </tr>\n",
       "    <tr>\n",
       "      <th>...</th>\n",
       "      <td>...</td>\n",
       "      <td>...</td>\n",
       "      <td>...</td>\n",
       "      <td>...</td>\n",
       "      <td>...</td>\n",
       "    </tr>\n",
       "    <tr>\n",
       "      <th>1808</th>\n",
       "      <td>Peru</td>\n",
       "      <td>2022</td>\n",
       "      <td>1307</td>\n",
       "      <td>PER</td>\n",
       "      <td>South America</td>\n",
       "    </tr>\n",
       "    <tr>\n",
       "      <th>1809</th>\n",
       "      <td>Paraguay</td>\n",
       "      <td>2022</td>\n",
       "      <td>966</td>\n",
       "      <td>PRY</td>\n",
       "      <td>South America</td>\n",
       "    </tr>\n",
       "    <tr>\n",
       "      <th>1810</th>\n",
       "      <td>Botswana</td>\n",
       "      <td>2022</td>\n",
       "      <td>3</td>\n",
       "      <td>BWA</td>\n",
       "      <td>Southern Africa</td>\n",
       "    </tr>\n",
       "    <tr>\n",
       "      <th>1811</th>\n",
       "      <td>Bulgaria</td>\n",
       "      <td>2022</td>\n",
       "      <td>523</td>\n",
       "      <td>BGR</td>\n",
       "      <td>Europe</td>\n",
       "    </tr>\n",
       "    <tr>\n",
       "      <th>1812</th>\n",
       "      <td>eSwatini</td>\n",
       "      <td>2022</td>\n",
       "      <td>37</td>\n",
       "      <td>SWZ</td>\n",
       "      <td>Southern Africa</td>\n",
       "    </tr>\n",
       "  </tbody>\n",
       "</table>\n",
       "<p>1813 rows × 5 columns</p>\n",
       "</div>"
      ],
      "text/plain": [
       "           country  year_x  count iso3           region\n",
       "0             Mali    1997      6  MLI   Western Africa\n",
       "1          Morocco    1997      3  MAR  Northern Africa\n",
       "2     Burkina Faso    1997      4  BFA   Western Africa\n",
       "3      Ivory Coast    1997      7  CIV   Western Africa\n",
       "4            Benin    1997      2  BEN   Western Africa\n",
       "...            ...     ...    ...  ...              ...\n",
       "1808          Peru    2022   1307  PER    South America\n",
       "1809      Paraguay    2022    966  PRY    South America\n",
       "1810      Botswana    2022      3  BWA  Southern Africa\n",
       "1811      Bulgaria    2022    523  BGR           Europe\n",
       "1812      eSwatini    2022     37  SWZ  Southern Africa\n",
       "\n",
       "[1813 rows x 5 columns]"
      ]
     },
     "execution_count": 73,
     "metadata": {},
     "output_type": "execute_result"
    }
   ],
   "source": [
    "# map_df['year_x'] = pd.to_datetime(map_df['year_x'])\n",
    "map_df_sorted = map_df.sort_values('year_x', ascending=True).reset_index(drop=True)\n",
    "# map_df['year_x'] = map_df['year_x'].dt.strftime('%Y')\n",
    "map_df_sorted"
   ]
  },
  {
   "cell_type": "code",
   "execution_count": 74,
   "id": "a98a606b",
   "metadata": {},
   "outputs": [],
   "source": [
    "import plotly.express as px\n",
    "df = px.data.gapminder()\n",
    "fig = px.scatter_geo(map_df_sorted, locations=\"iso3\", locationmode = \"ISO-3\", color=\"region\", \n",
    "                     hover_name=\"country\", size=\"count\",\n",
    "                     animation_frame=\"year_x\",\n",
    "                     projection=\"natural earth\")\n",
    "fig.write_html(\"Protests_Count_Interactive_sorted_but_WRONG.html\")"
   ]
  },
  {
   "cell_type": "code",
   "execution_count": 76,
   "id": "92995a52",
   "metadata": {},
   "outputs": [],
   "source": [
    "import plotly.express as px\n",
    "df = px.data.gapminder()\n",
    "fig = px.scatter_geo(map_df, locations=\"iso3\", locationmode = \"ISO-3\", color=\"region\", \n",
    "                     hover_name=\"country\", size=\"count\",\n",
    "                     animation_frame=\"year_x\",\n",
    "                     projection=\"natural earth\")\n",
    "fig.write_html(\"Protests_Count_Interactive_correct_but_not_sorted.html\")"
   ]
  }
 ],
 "metadata": {
  "kernelspec": {
   "display_name": "Python 3 (ipykernel)",
   "language": "python",
   "name": "python3"
  },
  "language_info": {
   "codemirror_mode": {
    "name": "ipython",
    "version": 3
   },
   "file_extension": ".py",
   "mimetype": "text/x-python",
   "name": "python",
   "nbconvert_exporter": "python",
   "pygments_lexer": "ipython3",
   "version": "3.9.7"
  }
 },
 "nbformat": 4,
 "nbformat_minor": 5
}
